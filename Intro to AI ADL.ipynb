{
  "cells":[
    {
      "cell_type":"markdown",
      "source":[
        "The first step is to import all of our packages"
      ],
      "metadata":{
        
      }
    },
    {
      "cell_type":"code",
      "source":[
        "import pandas as pd\n",
        "import numpy as np"
      ],
      "execution_count":1,
      "outputs":[
        
      ],
      "metadata":{
        
      }
    },
    {
      "cell_type":"markdown",
      "source":[
        "Next, we have to import out dataset, and turn it into something we can actually use"
      ],
      "metadata":{
        
      }
    },
    {
      "cell_type":"code",
      "source":[
        "data = pd.read_csv('house_data.csv')"
      ],
      "execution_count":2,
      "outputs":[
        
      ],
      "metadata":{
        
      }
    },
    {
      "cell_type":"markdown",
      "source":[
        "Now, lets take a look at the data by using the head() function from Pandas"
      ],
      "metadata":{
        
      }
    },
    {
      "cell_type":"code",
      "source":[
        "data.head()"
      ],
      "execution_count":3,
      "outputs":[
        {
          "data":{
            "text\/html":[
              "<div>\n",
              "<style scoped>\n",
              "    .dataframe tbody tr th:only-of-type {\n",
              "        vertical-align: middle;\n",
              "    }\n",
              "\n",
              "    .dataframe tbody tr th {\n",
              "        vertical-align: top;\n",
              "    }\n",
              "\n",
              "    .dataframe thead th {\n",
              "        text-align: right;\n",
              "    }\n",
              "<\/style>\n",
              "<table border=\"1\" class=\"dataframe\">\n",
              "  <thead>\n",
              "    <tr style=\"text-align: right;\">\n",
              "      <th><\/th>\n",
              "      <th>date<\/th>\n",
              "      <th>price<\/th>\n",
              "      <th>bedrooms<\/th>\n",
              "      <th>bathrooms<\/th>\n",
              "      <th>sqft_living<\/th>\n",
              "      <th>sqft_lot<\/th>\n",
              "      <th>floors<\/th>\n",
              "      <th>waterfront<\/th>\n",
              "      <th>view<\/th>\n",
              "      <th>condition<\/th>\n",
              "      <th>sqft_above<\/th>\n",
              "      <th>sqft_basement<\/th>\n",
              "      <th>yr_built<\/th>\n",
              "      <th>yr_renovated<\/th>\n",
              "      <th>street<\/th>\n",
              "      <th>city<\/th>\n",
              "      <th>statezip<\/th>\n",
              "      <th>country<\/th>\n",
              "    <\/tr>\n",
              "  <\/thead>\n",
              "  <tbody>\n",
              "    <tr>\n",
              "      <th>0<\/th>\n",
              "      <td>2014-05-02 00:00:00<\/td>\n",
              "      <td>313000.0<\/td>\n",
              "      <td>3.0<\/td>\n",
              "      <td>1.50<\/td>\n",
              "      <td>1340<\/td>\n",
              "      <td>7912<\/td>\n",
              "      <td>1.5<\/td>\n",
              "      <td>0<\/td>\n",
              "      <td>0<\/td>\n",
              "      <td>3<\/td>\n",
              "      <td>1340<\/td>\n",
              "      <td>0<\/td>\n",
              "      <td>1955<\/td>\n",
              "      <td>2005<\/td>\n",
              "      <td>18810 Densmore Ave N<\/td>\n",
              "      <td>Shoreline<\/td>\n",
              "      <td>WA 98133<\/td>\n",
              "      <td>USA<\/td>\n",
              "    <\/tr>\n",
              "    <tr>\n",
              "      <th>1<\/th>\n",
              "      <td>2014-05-02 00:00:00<\/td>\n",
              "      <td>2384000.0<\/td>\n",
              "      <td>5.0<\/td>\n",
              "      <td>2.50<\/td>\n",
              "      <td>3650<\/td>\n",
              "      <td>9050<\/td>\n",
              "      <td>2.0<\/td>\n",
              "      <td>0<\/td>\n",
              "      <td>4<\/td>\n",
              "      <td>5<\/td>\n",
              "      <td>3370<\/td>\n",
              "      <td>280<\/td>\n",
              "      <td>1921<\/td>\n",
              "      <td>0<\/td>\n",
              "      <td>709 W Blaine St<\/td>\n",
              "      <td>Seattle<\/td>\n",
              "      <td>WA 98119<\/td>\n",
              "      <td>USA<\/td>\n",
              "    <\/tr>\n",
              "    <tr>\n",
              "      <th>2<\/th>\n",
              "      <td>2014-05-02 00:00:00<\/td>\n",
              "      <td>342000.0<\/td>\n",
              "      <td>3.0<\/td>\n",
              "      <td>2.00<\/td>\n",
              "      <td>1930<\/td>\n",
              "      <td>11947<\/td>\n",
              "      <td>1.0<\/td>\n",
              "      <td>0<\/td>\n",
              "      <td>0<\/td>\n",
              "      <td>4<\/td>\n",
              "      <td>1930<\/td>\n",
              "      <td>0<\/td>\n",
              "      <td>1966<\/td>\n",
              "      <td>0<\/td>\n",
              "      <td>26206-26214 143rd Ave SE<\/td>\n",
              "      <td>Kent<\/td>\n",
              "      <td>WA 98042<\/td>\n",
              "      <td>USA<\/td>\n",
              "    <\/tr>\n",
              "    <tr>\n",
              "      <th>3<\/th>\n",
              "      <td>2014-05-02 00:00:00<\/td>\n",
              "      <td>420000.0<\/td>\n",
              "      <td>3.0<\/td>\n",
              "      <td>2.25<\/td>\n",
              "      <td>2000<\/td>\n",
              "      <td>8030<\/td>\n",
              "      <td>1.0<\/td>\n",
              "      <td>0<\/td>\n",
              "      <td>0<\/td>\n",
              "      <td>4<\/td>\n",
              "      <td>1000<\/td>\n",
              "      <td>1000<\/td>\n",
              "      <td>1963<\/td>\n",
              "      <td>0<\/td>\n",
              "      <td>857 170th Pl NE<\/td>\n",
              "      <td>Bellevue<\/td>\n",
              "      <td>WA 98008<\/td>\n",
              "      <td>USA<\/td>\n",
              "    <\/tr>\n",
              "    <tr>\n",
              "      <th>4<\/th>\n",
              "      <td>2014-05-02 00:00:00<\/td>\n",
              "      <td>550000.0<\/td>\n",
              "      <td>4.0<\/td>\n",
              "      <td>2.50<\/td>\n",
              "      <td>1940<\/td>\n",
              "      <td>10500<\/td>\n",
              "      <td>1.0<\/td>\n",
              "      <td>0<\/td>\n",
              "      <td>0<\/td>\n",
              "      <td>4<\/td>\n",
              "      <td>1140<\/td>\n",
              "      <td>800<\/td>\n",
              "      <td>1976<\/td>\n",
              "      <td>1992<\/td>\n",
              "      <td>9105 170th Ave NE<\/td>\n",
              "      <td>Redmond<\/td>\n",
              "      <td>WA 98052<\/td>\n",
              "      <td>USA<\/td>\n",
              "    <\/tr>\n",
              "  <\/tbody>\n",
              "<\/table>\n",
              "<\/div>"
            ]
          },
          "metadata":{
            
          },
          "output_type":"display_data"
        }
      ],
      "metadata":{
        
      }
    },
    {
      "cell_type":"markdown",
      "source":[
        "Now that we have our data in a Pandas data structure, we only want to keep some of the variables"
      ],
      "metadata":{
        
      }
    },
    {
      "cell_type":"code",
      "source":[
        "data = data[['price', 'bedrooms', 'bathrooms', 'sqft_living', 'sqft_lot', 'floors']]\n",
        "data.head()"
      ],
      "execution_count":4,
      "outputs":[
        {
          "data":{
            "text\/html":[
              "<div>\n",
              "<style scoped>\n",
              "    .dataframe tbody tr th:only-of-type {\n",
              "        vertical-align: middle;\n",
              "    }\n",
              "\n",
              "    .dataframe tbody tr th {\n",
              "        vertical-align: top;\n",
              "    }\n",
              "\n",
              "    .dataframe thead th {\n",
              "        text-align: right;\n",
              "    }\n",
              "<\/style>\n",
              "<table border=\"1\" class=\"dataframe\">\n",
              "  <thead>\n",
              "    <tr style=\"text-align: right;\">\n",
              "      <th><\/th>\n",
              "      <th>price<\/th>\n",
              "      <th>bedrooms<\/th>\n",
              "      <th>bathrooms<\/th>\n",
              "      <th>sqft_living<\/th>\n",
              "      <th>sqft_lot<\/th>\n",
              "      <th>floors<\/th>\n",
              "    <\/tr>\n",
              "  <\/thead>\n",
              "  <tbody>\n",
              "    <tr>\n",
              "      <th>0<\/th>\n",
              "      <td>313000.0<\/td>\n",
              "      <td>3.0<\/td>\n",
              "      <td>1.50<\/td>\n",
              "      <td>1340<\/td>\n",
              "      <td>7912<\/td>\n",
              "      <td>1.5<\/td>\n",
              "    <\/tr>\n",
              "    <tr>\n",
              "      <th>1<\/th>\n",
              "      <td>2384000.0<\/td>\n",
              "      <td>5.0<\/td>\n",
              "      <td>2.50<\/td>\n",
              "      <td>3650<\/td>\n",
              "      <td>9050<\/td>\n",
              "      <td>2.0<\/td>\n",
              "    <\/tr>\n",
              "    <tr>\n",
              "      <th>2<\/th>\n",
              "      <td>342000.0<\/td>\n",
              "      <td>3.0<\/td>\n",
              "      <td>2.00<\/td>\n",
              "      <td>1930<\/td>\n",
              "      <td>11947<\/td>\n",
              "      <td>1.0<\/td>\n",
              "    <\/tr>\n",
              "    <tr>\n",
              "      <th>3<\/th>\n",
              "      <td>420000.0<\/td>\n",
              "      <td>3.0<\/td>\n",
              "      <td>2.25<\/td>\n",
              "      <td>2000<\/td>\n",
              "      <td>8030<\/td>\n",
              "      <td>1.0<\/td>\n",
              "    <\/tr>\n",
              "    <tr>\n",
              "      <th>4<\/th>\n",
              "      <td>550000.0<\/td>\n",
              "      <td>4.0<\/td>\n",
              "      <td>2.50<\/td>\n",
              "      <td>1940<\/td>\n",
              "      <td>10500<\/td>\n",
              "      <td>1.0<\/td>\n",
              "    <\/tr>\n",
              "  <\/tbody>\n",
              "<\/table>\n",
              "<\/div>"
            ]
          },
          "metadata":{
            
          },
          "output_type":"display_data"
        }
      ],
      "metadata":{
        
      }
    },
    {
      "cell_type":"markdown",
      "source":[
        "We now need to split the data for testing and training, and seperate the price variable from the others. This will require a a new package"
      ],
      "metadata":{
        
      }
    },
    {
      "cell_type":"code",
      "source":[
        "from sklearn.model_selection import train_test_split\n",
        "\n",
        "X=data.drop('price', axis=1) \n",
        "y=data.price  \n",
        "\n",
        "X_train, X_test, y_train, y_test = train_test_split(X, y, test_size=0.3)"
      ],
      "execution_count":5,
      "outputs":[
        
      ],
      "metadata":{
        
      }
    },
    {
      "cell_type":"markdown",
      "source":[
        "Now we can import another package to create our model"
      ],
      "metadata":{
        
      }
    },
    {
      "cell_type":"code",
      "source":[
        "from sklearn.linear_model import LinearRegression\n",
        "regressor = LinearRegression()\n",
        "regressor.fit(X_train, y_train)"
      ],
      "execution_count":6,
      "outputs":[
        {
          "data":{
            "text\/plain":[
              "LinearRegression()"
            ]
          },
          "metadata":{
            
          },
          "output_type":"display_data"
        }
      ],
      "metadata":{
        
      }
    },
    {
      "cell_type":"code",
      "source":[
        "y_pred = regressor.predict(X_test)"
      ],
      "execution_count":12,
      "outputs":[
        
      ],
      "metadata":{
        
      }
    },
    {
      "cell_type":"markdown",
      "source":[
        "After running training the model on the train data, and testing on the test data, we can see the results in the next cell. We don't use the accuracy metric becuase the data is continous, and our data is not a classification problem"
      ],
      "metadata":{
        
      }
    },
    {
      "cell_type":"code",
      "source":[
        "df = pd.DataFrame({'Actual': y_test, 'Predicted': y_pred})\n",
        "df"
      ],
      "execution_count":10,
      "outputs":[
        {
          "data":{
            "text\/html":[
              "<div>\n",
              "<style scoped>\n",
              "    .dataframe tbody tr th:only-of-type {\n",
              "        vertical-align: middle;\n",
              "    }\n",
              "\n",
              "    .dataframe tbody tr th {\n",
              "        vertical-align: top;\n",
              "    }\n",
              "\n",
              "    .dataframe thead th {\n",
              "        text-align: right;\n",
              "    }\n",
              "<\/style>\n",
              "<table border=\"1\" class=\"dataframe\">\n",
              "  <thead>\n",
              "    <tr style=\"text-align: right;\">\n",
              "      <th><\/th>\n",
              "      <th>Actual<\/th>\n",
              "      <th>Predicted<\/th>\n",
              "    <\/tr>\n",
              "  <\/thead>\n",
              "  <tbody>\n",
              "    <tr>\n",
              "      <th>1515<\/th>\n",
              "      <td>345000.0<\/td>\n",
              "      <td>3.394024e+05<\/td>\n",
              "    <\/tr>\n",
              "    <tr>\n",
              "      <th>2466<\/th>\n",
              "      <td>380000.0<\/td>\n",
              "      <td>6.344585e+05<\/td>\n",
              "    <\/tr>\n",
              "    <tr>\n",
              "      <th>3897<\/th>\n",
              "      <td>342000.0<\/td>\n",
              "      <td>5.716122e+05<\/td>\n",
              "    <\/tr>\n",
              "    <tr>\n",
              "      <th>470<\/th>\n",
              "      <td>368000.0<\/td>\n",
              "      <td>3.867219e+05<\/td>\n",
              "    <\/tr>\n",
              "    <tr>\n",
              "      <th>1728<\/th>\n",
              "      <td>610000.0<\/td>\n",
              "      <td>9.740545e+05<\/td>\n",
              "    <\/tr>\n",
              "    <tr>\n",
              "      <th>...<\/th>\n",
              "      <td>...<\/td>\n",
              "      <td>...<\/td>\n",
              "    <\/tr>\n",
              "    <tr>\n",
              "      <th>1768<\/th>\n",
              "      <td>580135.0<\/td>\n",
              "      <td>7.943863e+05<\/td>\n",
              "    <\/tr>\n",
              "    <tr>\n",
              "      <th>459<\/th>\n",
              "      <td>212000.0<\/td>\n",
              "      <td>3.248009e+05<\/td>\n",
              "    <\/tr>\n",
              "    <tr>\n",
              "      <th>1761<\/th>\n",
              "      <td>1070000.0<\/td>\n",
              "      <td>1.077328e+06<\/td>\n",
              "    <\/tr>\n",
              "    <tr>\n",
              "      <th>31<\/th>\n",
              "      <td>499950.0<\/td>\n",
              "      <td>7.203515e+05<\/td>\n",
              "    <\/tr>\n",
              "    <tr>\n",
              "      <th>4125<\/th>\n",
              "      <td>600000.0<\/td>\n",
              "      <td>5.549825e+05<\/td>\n",
              "    <\/tr>\n",
              "  <\/tbody>\n",
              "<\/table>\n",
              "<p>1380 rows × 2 columns<\/p>\n",
              "<\/div>"
            ]
          },
          "metadata":{
            
          },
          "output_type":"display_data"
        }
      ],
      "metadata":{
        
      }
    }
  ],
  "metadata":{
    
  },
  "nbformat":4,
  "nbformat_minor":0
}